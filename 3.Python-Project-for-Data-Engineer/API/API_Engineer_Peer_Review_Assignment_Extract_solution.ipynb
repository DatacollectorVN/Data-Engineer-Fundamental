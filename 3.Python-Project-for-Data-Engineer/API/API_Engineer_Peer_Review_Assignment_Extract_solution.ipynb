{
 "cells": [
  {
   "cell_type": "markdown",
   "metadata": {},
   "source": [
    "<center>\n",
    "    <img src=\"https://gitlab.com/ibm/skills-network/courses/placeholder101/-/raw/master/labs/module%201/images/IDSNlogo.png\" width=\"300\" alt=\"cognitiveclass.ai logo\"  />\n",
    "</center>\n"
   ]
  },
  {
   "cell_type": "markdown",
   "metadata": {},
   "source": [
    "# Peer Review Assignment - Data Engineer - Extract API Data\n"
   ]
  },
  {
   "cell_type": "markdown",
   "metadata": {},
   "source": [
    "Estimated time needed: **20** minutes\n"
   ]
  },
  {
   "cell_type": "markdown",
   "metadata": {},
   "source": [
    "## Objectives\n",
    "\n",
    "In this part you will:\n",
    "\n",
    "*   Collect exchange rate data using an API\n",
    "*   Store the data as a CSV\n"
   ]
  },
  {
   "cell_type": "markdown",
   "metadata": {},
   "source": [
    "For this lab, we are going to be using Python and several Python libraries. Some of these libraries might be installed in your lab environment or in SN Labs. Others may need to be installed by you. The cells below will install these libraries when executed.\n"
   ]
  },
  {
   "cell_type": "code",
   "execution_count": null,
   "metadata": {},
   "outputs": [],
   "source": [
    "#!pip install pandas\n",
    "#!pip install requests"
   ]
  },
  {
   "cell_type": "markdown",
   "metadata": {},
   "source": [
    "## Imports\n",
    "\n",
    "Import any additional libraries you may need here.\n"
   ]
  },
  {
   "cell_type": "code",
   "execution_count": 1,
   "metadata": {},
   "outputs": [],
   "source": [
    "import requests\n",
    "import pandas as pd"
   ]
  },
  {
   "cell_type": "markdown",
   "metadata": {},
   "source": [
    "## Extract Data Using an API\n"
   ]
  },
  {
   "cell_type": "markdown",
   "metadata": {},
   "source": [
    "Using ExchangeRate-API we will extract currency exchange rate data. Use the below steps to get the access key and to get the data.\n",
    "\n",
    "1.  Open the url : [https://exchangeratesapi.io/](https://exchangeratesapi.io/?utm_medium=Exinfluencer&utm_source=Exinfluencer&utm_content=000026UJ&utm_term=10006555&utm_id=NA-SkillsNetwork-Channel-SkillsNetworkCoursesIBMDeveloperSkillsNetworkPY0221ENSkillsNetwork23455645-2021-01-01) and create a free account.\n",
    "2.  Once the account is created. You will get the Get the Free API key option on the top as shown below:\n",
    "\n",
    "<img src=\"https://cf-courses-data.s3.us.cloud-object-storage.appdomain.cloud/IBMDeveloperSkillsNetwork-PY0221EN-SkillsNetwork/labs/module%206/Final%20Assignment/Images/getapi.png\"/>\n",
    "\n",
    "3.  Copy the API key and use in the url in Question 1.\n"
   ]
  },
  {
   "cell_type": "markdown",
   "metadata": {},
   "source": [
    "### Call the API\n",
    "\n",
    "<b> Question 1</b> Using the `requests` library call the endpoint given above and save the text, remember the first few characters of the output:\n"
   ]
  },
  {
   "cell_type": "code",
   "execution_count": 9,
   "metadata": {},
   "outputs": [
    {
     "data": {
      "text/plain": [
       "{'success': True,\n",
       " 'timestamp': 1638430743,\n",
       " 'base': 'EUR',\n",
       " 'date': '2021-12-02',\n",
       " 'rates': {'AED': 4.157607,\n",
       "  'AFN': 108.844202,\n",
       "  'ALL': 121.04608,\n",
       "  'AMD': 550.627903,\n",
       "  'ANG': 2.0388,\n",
       "  'AOA': 639.685968,\n",
       "  'ARS': 114.289529,\n",
       "  'AUD': 1.592878,\n",
       "  'AWG': 2.037998,\n",
       "  'AZN': 1.919646,\n",
       "  'BAM': 1.954314,\n",
       "  'BBD': 2.284128,\n",
       "  'BDT': 97.031913,\n",
       "  'BGN': 1.955114,\n",
       "  'BHD': 0.426772,\n",
       "  'BIF': 2253.720625,\n",
       "  'BMD': 1.131907,\n",
       "  'BND': 1.542013,\n",
       "  'BOB': 7.799401,\n",
       "  'BRL': 6.446999,\n",
       "  'BSD': 1.131222,\n",
       "  'BTC': 1.9920521e-05,\n",
       "  'BTN': 84.682547,\n",
       "  'BWP': 13.207636,\n",
       "  'BYN': 2.878367,\n",
       "  'BYR': 22185.372369,\n",
       "  'BZD': 2.280211,\n",
       "  'CAD': 1.4472,\n",
       "  'CDF': 2267.209273,\n",
       "  'CHF': 1.042079,\n",
       "  'CLF': 0.034419,\n",
       "  'CLP': 949.737644,\n",
       "  'CNY': 7.212058,\n",
       "  'COP': 4489.776052,\n",
       "  'CRC': 710.450145,\n",
       "  'CUC': 1.131907,\n",
       "  'CUP': 29.995529,\n",
       "  'CVE': 110.17319,\n",
       "  'CZK': 25.487196,\n",
       "  'DJF': 201.383746,\n",
       "  'DKK': 7.436231,\n",
       "  'DOP': 63.827296,\n",
       "  'DZD': 157.435775,\n",
       "  'EGP': 17.785198,\n",
       "  'ERN': 16.978953,\n",
       "  'ETB': 54.59407,\n",
       "  'EUR': 1,\n",
       "  'FJD': 2.412995,\n",
       "  'FKP': 0.843762,\n",
       "  'GBP': 0.851856,\n",
       "  'GEL': 3.537165,\n",
       "  'GGP': 0.843762,\n",
       "  'GHS': 6.942615,\n",
       "  'GIP': 0.843762,\n",
       "  'GMD': 59.306553,\n",
       "  'GNF': 10757.713415,\n",
       "  'GTQ': 8.751732,\n",
       "  'GYD': 236.552875,\n",
       "  'HKD': 8.816252,\n",
       "  'HNL': 27.29203,\n",
       "  'HRK': 7.519823,\n",
       "  'HTG': 111.852119,\n",
       "  'HUF': 362.572442,\n",
       "  'IDR': 16277.894427,\n",
       "  'ILS': 3.584274,\n",
       "  'IMP': 0.843762,\n",
       "  'INR': 84.796773,\n",
       "  'IQD': 1650.479393,\n",
       "  'IRR': 47851.357803,\n",
       "  'ISK': 146.605238,\n",
       "  'JEP': 0.843762,\n",
       "  'JMD': 175.889189,\n",
       "  'JOD': 0.80255,\n",
       "  'JPY': 128.166941,\n",
       "  'KES': 127.508676,\n",
       "  'KGS': 95.98218,\n",
       "  'KHR': 4603.35361,\n",
       "  'KMF': 493.93582,\n",
       "  'KPW': 1018.716475,\n",
       "  'KRW': 1329.051066,\n",
       "  'KWD': 0.342447,\n",
       "  'KYD': 0.94266,\n",
       "  'KZT': 493.502731,\n",
       "  'LAK': 12273.768348,\n",
       "  'LBP': 1710.657588,\n",
       "  'LKR': 228.507982,\n",
       "  'LRD': 160.787624,\n",
       "  'LSL': 18.110663,\n",
       "  'LTL': 3.342226,\n",
       "  'LVL': 0.684679,\n",
       "  'LYD': 5.199466,\n",
       "  'MAD': 10.437302,\n",
       "  'MDL': 20.025186,\n",
       "  'MGA': 4506.523575,\n",
       "  'MKD': 61.600946,\n",
       "  'MMK': 2019.258757,\n",
       "  'MNT': 3235.23695,\n",
       "  'MOP': 9.081154,\n",
       "  'MRO': 404.090516,\n",
       "  'MUR': 49.34836,\n",
       "  'MVR': 17.488268,\n",
       "  'MWK': 924.194412,\n",
       "  'MXN': 24.196095,\n",
       "  'MYR': 4.787397,\n",
       "  'MZN': 72.249612,\n",
       "  'NAD': 18.110744,\n",
       "  'NGN': 464.941611,\n",
       "  'NIO': 39.855893,\n",
       "  'NOK': 10.281811,\n",
       "  'NPR': 135.497656,\n",
       "  'NZD': 1.661803,\n",
       "  'OMR': 0.435774,\n",
       "  'PAB': 1.131157,\n",
       "  'PEN': 4.598432,\n",
       "  'PGK': 3.972334,\n",
       "  'PHP': 57.049801,\n",
       "  'PKR': 198.305934,\n",
       "  'PLN': 4.616998,\n",
       "  'PYG': 7740.594073,\n",
       "  'QAR': 4.121245,\n",
       "  'RON': 4.947683,\n",
       "  'RSD': 117.650557,\n",
       "  'RUB': 83.769013,\n",
       "  'RWF': 1171.810792,\n",
       "  'SAR': 4.246803,\n",
       "  'SBD': 9.150472,\n",
       "  'SCR': 14.804508,\n",
       "  'SDG': 495.211462,\n",
       "  'SEK': 10.27588,\n",
       "  'SGD': 1.546636,\n",
       "  'SHP': 1.559091,\n",
       "  'SLL': 12589.635164,\n",
       "  'SOS': 661.033517,\n",
       "  'SRD': 24.355218,\n",
       "  'STD': 23428.184487,\n",
       "  'SVC': 9.89832,\n",
       "  'SYP': 1422.561797,\n",
       "  'SZL': 17.869335,\n",
       "  'THB': 38.326433,\n",
       "  'TJS': 12.771465,\n",
       "  'TMT': 3.961674,\n",
       "  'TND': 3.262724,\n",
       "  'TOP': 2.585218,\n",
       "  'TRY': 15.239076,\n",
       "  'TTD': 7.666983,\n",
       "  'TWD': 31.378151,\n",
       "  'TZS': 2606.781631,\n",
       "  'UAH': 30.869494,\n",
       "  'UGX': 4032.6395,\n",
       "  'USD': 1.131907,\n",
       "  'UYU': 49.790488,\n",
       "  'UZS': 12179.459957,\n",
       "  'VEF': 242035872771.49954,\n",
       "  'VND': 25716.92144,\n",
       "  'VUV': 126.003417,\n",
       "  'WST': 2.901803,\n",
       "  'XAF': 655.448438,\n",
       "  'XAG': 0.050533,\n",
       "  'XAU': 0.000637,\n",
       "  'XCD': 3.059035,\n",
       "  'XDR': 0.807566,\n",
       "  'XOF': 655.448438,\n",
       "  'XPF': 119.52711,\n",
       "  'YER': 283.260232,\n",
       "  'ZAR': 18.081599,\n",
       "  'ZMK': 10188.509267,\n",
       "  'ZMW': 20.164176,\n",
       "  'ZWL': 364.473513}}"
      ]
     },
     "execution_count": 9,
     "metadata": {},
     "output_type": "execute_result"
    }
   ],
   "source": [
    "# Write your code here\n",
    "#url = \"http://api.exchangeratesapi.io/v1/latest?base=EUR&access_key=*******\"  #Make sure to change ******* to your API key.\n",
    "url = \"http://api.exchangeratesapi.io/v1/latest?access_key=7ae225014a45e5226335ff3ddeab8e1c\"\n",
    "data = requests.get(url = url).json()\n",
    "data"
   ]
  },
  {
   "cell_type": "markdown",
   "metadata": {},
   "source": [
    "### Save as DataFrame\n",
    "\n",
    "<b> Question 2</b>  Using the data gathered turn it into a `pandas` dataframe. The dataframe should have the Currency as the index and `Rate` as their columns. Make sure to drop unnecessary columns.\n"
   ]
  },
  {
   "cell_type": "code",
   "execution_count": 20,
   "metadata": {},
   "outputs": [
    {
     "data": {
      "text/html": [
       "<div>\n",
       "<style scoped>\n",
       "    .dataframe tbody tr th:only-of-type {\n",
       "        vertical-align: middle;\n",
       "    }\n",
       "\n",
       "    .dataframe tbody tr th {\n",
       "        vertical-align: top;\n",
       "    }\n",
       "\n",
       "    .dataframe thead th {\n",
       "        text-align: right;\n",
       "    }\n",
       "</style>\n",
       "<table border=\"1\" class=\"dataframe\">\n",
       "  <thead>\n",
       "    <tr style=\"text-align: right;\">\n",
       "      <th></th>\n",
       "      <th>Rate</th>\n",
       "    </tr>\n",
       "  </thead>\n",
       "  <tbody>\n",
       "    <tr>\n",
       "      <th>AED</th>\n",
       "      <td>4.157607</td>\n",
       "    </tr>\n",
       "    <tr>\n",
       "      <th>AFN</th>\n",
       "      <td>108.844202</td>\n",
       "    </tr>\n",
       "    <tr>\n",
       "      <th>ALL</th>\n",
       "      <td>121.046080</td>\n",
       "    </tr>\n",
       "    <tr>\n",
       "      <th>AMD</th>\n",
       "      <td>550.627903</td>\n",
       "    </tr>\n",
       "    <tr>\n",
       "      <th>ANG</th>\n",
       "      <td>2.038800</td>\n",
       "    </tr>\n",
       "  </tbody>\n",
       "</table>\n",
       "</div>"
      ],
      "text/plain": [
       "           Rate\n",
       "AED    4.157607\n",
       "AFN  108.844202\n",
       "ALL  121.046080\n",
       "AMD  550.627903\n",
       "ANG    2.038800"
      ]
     },
     "execution_count": 20,
     "metadata": {},
     "output_type": "execute_result"
    }
   ],
   "source": [
    "# Turn the data into a dataframe\n",
    "df = pd.DataFrame({\"Rate\" : data[\"rates\"].values()}, index = data[\"rates\"].keys())\n",
    "df.head()"
   ]
  },
  {
   "cell_type": "markdown",
   "metadata": {},
   "source": [
    "### Load the Data\n",
    "\n",
    "Using the dataframe save it as a CSV names `exchange_rates_1.csv`.\n"
   ]
  },
  {
   "cell_type": "code",
   "execution_count": 22,
   "metadata": {},
   "outputs": [],
   "source": [
    "# Save the Dataframe\n",
    "df.to_csv(\"exchange_rates_1.csv\", index = False)"
   ]
  },
  {
   "cell_type": "markdown",
   "metadata": {},
   "source": [
    "Your CSV should be in this format with more currencies\n",
    "\n",
    "|     | Rates      |\n",
    "| --- | ---------- |\n",
    "| AED | 4.398618   |\n",
    "| AFN | 92.917693  |\n",
    "| ALL | 123.099093 |\n",
    "| AMD | 621.935674 |\n",
    "| ANG | 2.149648   |\n"
   ]
  },
  {
   "cell_type": "markdown",
   "metadata": {},
   "source": [
    "## Authors\n"
   ]
  },
  {
   "cell_type": "markdown",
   "metadata": {},
   "source": [
    "Ramesh Sannareddy, Joseph Santarcangelo and Azim Hirjani\n"
   ]
  },
  {
   "cell_type": "markdown",
   "metadata": {},
   "source": [
    "### Other Contributors\n"
   ]
  },
  {
   "cell_type": "markdown",
   "metadata": {},
   "source": [
    "Rav Ahuja\n"
   ]
  },
  {
   "cell_type": "markdown",
   "metadata": {},
   "source": [
    "## Change Log\n"
   ]
  },
  {
   "cell_type": "markdown",
   "metadata": {},
   "source": [
    "| Date (YYYY-MM-DD) | Version | Changed By        | Change Description                 |\n",
    "| ----------------- | ------- | ----------------- | ---------------------------------- |\n",
    "| 2021-04-15        | 0.2     | Malika            | Updated the lab from USD to EUR    |\n",
    "| 2020-11-25        | 0.1     | Ramesh Sannareddy | Created initial version of the lab |\n"
   ]
  },
  {
   "cell_type": "markdown",
   "metadata": {},
   "source": [
    "Copyright © 2020 IBM Corporation. This notebook and its source code are released under the terms of the [MIT License](https://cognitiveclass.ai/mit-license?utm_medium=Exinfluencer&utm_source=Exinfluencer&utm_content=000026UJ&utm_term=10006555&utm_id=NA-SkillsNetwork-Channel-SkillsNetworkCoursesIBMDeveloperSkillsNetworkPY0221ENSkillsNetwork23455645-2021-01-01&cm_mmc=Email_Newsletter-\\_-Developer_Ed%2BTech-\\_-WW_WW-\\_-SkillsNetwork-Courses-IBM-DA0321EN-SkillsNetwork-21426264&cm_mmca1=000026UJ&cm_mmca2=10006555&cm_mmca3=M12345678&cvosrc=email.Newsletter.M12345678&cvo_campaign=000026UJ).\n"
   ]
  }
 ],
 "metadata": {
  "kernelspec": {
   "display_name": "Python",
   "language": "python",
   "name": "conda-env-python-py"
  },
  "language_info": {
   "codemirror_mode": {
    "name": "ipython",
    "version": 3
   },
   "file_extension": ".py",
   "mimetype": "text/x-python",
   "name": "python",
   "nbconvert_exporter": "python",
   "pygments_lexer": "ipython3",
   "version": "3.7.10"
  }
 },
 "nbformat": 4,
 "nbformat_minor": 4
}
